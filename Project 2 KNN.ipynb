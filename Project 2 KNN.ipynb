{
 "cells": [
  {
   "cell_type": "code",
   "execution_count": 1,
   "id": "d9f90a53",
   "metadata": {},
   "outputs": [],
   "source": [
    "import lib\n",
    "import numpy as np\n",
    "import matplotlib.pyplot as plt\n",
    "import pandas as pd"
   ]
  },
  {
   "cell_type": "code",
   "execution_count": 2,
   "id": "74be58c9",
   "metadata": {},
   "outputs": [
    {
     "name": "stdout",
     "output_type": "stream",
     "text": [
      "ibraries imported\n"
     ]
    }
   ],
   "source": [
    "from sklearn.model_selection import train_test_split\n",
    "from sklearn.preprocessing import StandardScaler\n",
    "print('ibraries imported')"
   ]
  },
  {
   "cell_type": "code",
   "execution_count": 3,
   "id": "211466da",
   "metadata": {},
   "outputs": [],
   "source": [
    "Sdata=pd.read_csv('Iris.csv')\n",
    "#%% input and out data\n",
    "In=Sdata.iloc[:,1:5].values\n",
    "Dp=Sdata.iloc[:,5].values"
   ]
  },
  {
   "cell_type": "code",
   "execution_count": 4,
   "id": "0315146c",
   "metadata": {},
   "outputs": [
    {
     "data": {
      "text/plain": [
       "array([0, 1, 2])"
      ]
     },
     "execution_count": 4,
     "metadata": {},
     "output_type": "execute_result"
    }
   ],
   "source": [
    "from sklearn.preprocessing import LabelEncoder,OneHotEncoder\n",
    "L=LabelEncoder()\n",
    "Sdata['Species']=L.fit_transform(Sdata['Species'])\n",
    "Sdata['Species'].unique()"
   ]
  },
  {
   "cell_type": "code",
   "execution_count": 6,
   "id": "f72919b3",
   "metadata": {},
   "outputs": [],
   "source": [
    "std=StandardScaler() # object creation\n",
    "In=std.fit_transform(In)"
   ]
  },
  {
   "cell_type": "code",
   "execution_count": 7,
   "id": "6df26b6d",
   "metadata": {},
   "outputs": [],
   "source": [
    "#%% training and test split\n",
    "Intrain, Intest, Dptrain, Dptest=train_test_split(In, Dp,test_size=0.20,random_state=0)"
   ]
  },
  {
   "cell_type": "code",
   "execution_count": 8,
   "id": "5c906b96",
   "metadata": {},
   "outputs": [
    {
     "data": {
      "text/plain": [
       "KNeighborsClassifier(n_neighbors=2)"
      ]
     },
     "execution_count": 8,
     "metadata": {},
     "output_type": "execute_result"
    }
   ],
   "source": [
    "#%% Apply KNN choosen classifier, create object apply fit method\n",
    "from sklearn.neighbors import KNeighborsClassifier\n",
    "KNN=KNeighborsClassifier(n_neighbors=2,metric='minkowski',p=2)\n",
    "KNN.fit(Intrain, Dptrain)"
   ]
  },
  {
   "cell_type": "code",
   "execution_count": 9,
   "id": "0be2e6ca",
   "metadata": {},
   "outputs": [
    {
     "name": "stdout",
     "output_type": "stream",
     "text": [
      "[[11  0  0]\n",
      " [ 0 13  0]\n",
      " [ 0  1  5]]\n"
     ]
    }
   ],
   "source": [
    "#%% apply the predict\n",
    "Dp_Predicted=KNN.predict(Intest)\n",
    "#%% apply Confusion Matrix to calculate  accuracy\n",
    "from sklearn.metrics import confusion_matrix\n",
    "result=confusion_matrix(Dptest,Dp_Predicted)\n",
    "print(result)"
   ]
  }
 ],
 "metadata": {
  "kernelspec": {
   "display_name": "Python 3",
   "language": "python",
   "name": "python3"
  },
  "language_info": {
   "codemirror_mode": {
    "name": "ipython",
    "version": 3
   },
   "file_extension": ".py",
   "mimetype": "text/x-python",
   "name": "python",
   "nbconvert_exporter": "python",
   "pygments_lexer": "ipython3",
   "version": "3.8.8"
  }
 },
 "nbformat": 4,
 "nbformat_minor": 5
}
