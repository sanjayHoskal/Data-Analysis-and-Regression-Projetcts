{
 "cells": [
  {
   "cell_type": "code",
   "execution_count": 1,
   "id": "452a1984",
   "metadata": {},
   "outputs": [
    {
     "data": {
      "text/html": [
       "<div>\n",
       "<style scoped>\n",
       "    .dataframe tbody tr th:only-of-type {\n",
       "        vertical-align: middle;\n",
       "    }\n",
       "\n",
       "    .dataframe tbody tr th {\n",
       "        vertical-align: top;\n",
       "    }\n",
       "\n",
       "    .dataframe thead th {\n",
       "        text-align: right;\n",
       "    }\n",
       "</style>\n",
       "<table border=\"1\" class=\"dataframe\">\n",
       "  <thead>\n",
       "    <tr style=\"text-align: right;\">\n",
       "      <th></th>\n",
       "      <th>User ID</th>\n",
       "      <th>Gender</th>\n",
       "      <th>Age</th>\n",
       "      <th>EstimatedSalary</th>\n",
       "      <th>Purchased</th>\n",
       "    </tr>\n",
       "  </thead>\n",
       "  <tbody>\n",
       "    <tr>\n",
       "      <th>0</th>\n",
       "      <td>15624510</td>\n",
       "      <td>Male</td>\n",
       "      <td>19</td>\n",
       "      <td>19000</td>\n",
       "      <td>0</td>\n",
       "    </tr>\n",
       "    <tr>\n",
       "      <th>1</th>\n",
       "      <td>15810944</td>\n",
       "      <td>Male</td>\n",
       "      <td>35</td>\n",
       "      <td>20000</td>\n",
       "      <td>0</td>\n",
       "    </tr>\n",
       "    <tr>\n",
       "      <th>2</th>\n",
       "      <td>15668575</td>\n",
       "      <td>Female</td>\n",
       "      <td>26</td>\n",
       "      <td>43000</td>\n",
       "      <td>0</td>\n",
       "    </tr>\n",
       "    <tr>\n",
       "      <th>3</th>\n",
       "      <td>15603246</td>\n",
       "      <td>Female</td>\n",
       "      <td>27</td>\n",
       "      <td>57000</td>\n",
       "      <td>0</td>\n",
       "    </tr>\n",
       "    <tr>\n",
       "      <th>4</th>\n",
       "      <td>15804002</td>\n",
       "      <td>Male</td>\n",
       "      <td>19</td>\n",
       "      <td>76000</td>\n",
       "      <td>0</td>\n",
       "    </tr>\n",
       "    <tr>\n",
       "      <th>...</th>\n",
       "      <td>...</td>\n",
       "      <td>...</td>\n",
       "      <td>...</td>\n",
       "      <td>...</td>\n",
       "      <td>...</td>\n",
       "    </tr>\n",
       "    <tr>\n",
       "      <th>395</th>\n",
       "      <td>15691863</td>\n",
       "      <td>Female</td>\n",
       "      <td>46</td>\n",
       "      <td>41000</td>\n",
       "      <td>1</td>\n",
       "    </tr>\n",
       "    <tr>\n",
       "      <th>396</th>\n",
       "      <td>15706071</td>\n",
       "      <td>Male</td>\n",
       "      <td>51</td>\n",
       "      <td>23000</td>\n",
       "      <td>1</td>\n",
       "    </tr>\n",
       "    <tr>\n",
       "      <th>397</th>\n",
       "      <td>15654296</td>\n",
       "      <td>Female</td>\n",
       "      <td>50</td>\n",
       "      <td>20000</td>\n",
       "      <td>1</td>\n",
       "    </tr>\n",
       "    <tr>\n",
       "      <th>398</th>\n",
       "      <td>15755018</td>\n",
       "      <td>Male</td>\n",
       "      <td>36</td>\n",
       "      <td>33000</td>\n",
       "      <td>0</td>\n",
       "    </tr>\n",
       "    <tr>\n",
       "      <th>399</th>\n",
       "      <td>15594041</td>\n",
       "      <td>Female</td>\n",
       "      <td>49</td>\n",
       "      <td>36000</td>\n",
       "      <td>1</td>\n",
       "    </tr>\n",
       "  </tbody>\n",
       "</table>\n",
       "<p>400 rows × 5 columns</p>\n",
       "</div>"
      ],
      "text/plain": [
       "      User ID  Gender  Age  EstimatedSalary  Purchased\n",
       "0    15624510    Male   19            19000          0\n",
       "1    15810944    Male   35            20000          0\n",
       "2    15668575  Female   26            43000          0\n",
       "3    15603246  Female   27            57000          0\n",
       "4    15804002    Male   19            76000          0\n",
       "..        ...     ...  ...              ...        ...\n",
       "395  15691863  Female   46            41000          1\n",
       "396  15706071    Male   51            23000          1\n",
       "397  15654296  Female   50            20000          1\n",
       "398  15755018    Male   36            33000          0\n",
       "399  15594041  Female   49            36000          1\n",
       "\n",
       "[400 rows x 5 columns]"
      ]
     },
     "execution_count": 1,
     "metadata": {},
     "output_type": "execute_result"
    }
   ],
   "source": [
    "import pandas as pd\n",
    "Data=pd.read_csv('https://raw.githubusercontent.com/Abeyaantrix2Internship/intern/main/Social_Network_Ads.csv')\n",
    "Data"
   ]
  },
  {
   "cell_type": "code",
   "execution_count": 9,
   "id": "c545525e",
   "metadata": {},
   "outputs": [
    {
     "name": "stdout",
     "output_type": "stream",
     "text": [
      "<class 'pandas.core.frame.DataFrame'>\n",
      "RangeIndex: 400 entries, 0 to 399\n",
      "Data columns (total 5 columns):\n",
      " #   Column           Non-Null Count  Dtype \n",
      "---  ------           --------------  ----- \n",
      " 0   User ID          400 non-null    int64 \n",
      " 1   Gender           400 non-null    object\n",
      " 2   Age              400 non-null    int64 \n",
      " 3   EstimatedSalary  400 non-null    int64 \n",
      " 4   Purchased        400 non-null    int64 \n",
      "dtypes: int64(4), object(1)\n",
      "memory usage: 15.8+ KB\n"
     ]
    }
   ],
   "source": [
    "Data.info()"
   ]
  },
  {
   "cell_type": "code",
   "execution_count": 12,
   "id": "1f670ca9",
   "metadata": {},
   "outputs": [
    {
     "data": {
      "image/png": "[encoded data removed]",
      "text/plain": [
       "<Figure size 432x288 with 1 Axes>"
      ]
     },
     "metadata": {
      "needs_background": "light"
     },
     "output_type": "display_data"
    }
   ],
   "source": [
    "import matplotlib.pyplot as plt\n",
    "plt.scatter(x=Data['Age'],y=Data['Purchased'])\n",
    "plt.show()"
   ]
  },
  {
   "cell_type": "code",
   "execution_count": 13,
   "id": "9cfb6ead",
   "metadata": {},
   "outputs": [
    {
     "data": {
      "image/png": "[encoded data removed]",
      "text/plain": [
       "<Figure size 432x288 with 1 Axes>"
      ]
     },
     "metadata": {
      "needs_background": "light"
     },
     "output_type": "display_data"
    }
   ],
   "source": [
    "import matplotlib.pyplot as plt\n",
    "plt.scatter(x=Data['Purchased'],y=Data['Age'])\n",
    "plt.show()"
   ]
  },
  {
   "cell_type": "code",
   "execution_count": 14,
   "id": "9804287a",
   "metadata": {},
   "outputs": [
    {
     "data": {
      "image/png": "[encoded data removed]",
      "text/plain": [
       "<Figure size 432x288 with 1 Axes>"
      ]
     },
     "metadata": {
      "needs_background": "light"
     },
     "output_type": "display_data"
    }
   ],
   "source": [
    "import matplotlib.pyplot as plt\n",
    "plt.scatter(x=Data['EstimatedSalary'],y=Data['Purchased'])\n",
    "plt.show()"
   ]
  },
  {
   "cell_type": "code",
   "execution_count": 15,
   "id": "d2fde8a1",
   "metadata": {},
   "outputs": [
    {
     "name": "stdout",
     "output_type": "stream",
     "text": [
      "0      0.316667\n",
      "1      0.583333\n",
      "2      0.433333\n",
      "3      0.450000\n",
      "4      0.316667\n",
      "         ...   \n",
      "395    0.766667\n",
      "396    0.850000\n",
      "397    0.833333\n",
      "398    0.600000\n",
      "399    0.816667\n",
      "Name: Age, Length: 400, dtype: float64 0      0.126667\n",
      "1      0.133333\n",
      "2      0.286667\n",
      "3      0.380000\n",
      "4      0.506667\n",
      "         ...   \n",
      "395    0.273333\n",
      "396    0.153333\n",
      "397    0.133333\n",
      "398    0.220000\n",
      "399    0.240000\n",
      "Name: EstimatedSalary, Length: 400, dtype: float64\n"
     ]
    }
   ],
   "source": [
    "print(Data['Age']/60,Data['EstimatedSalary']/150000.000000)"
   ]
  },
  {
   "cell_type": "code",
   "execution_count": 16,
   "id": "2feaf362",
   "metadata": {},
   "outputs": [],
   "source": [
    "import numpy as np\n",
    "import matplotlib.pyplot as plt\n",
    "import pandas as pd"
   ]
  },
  {
   "cell_type": "code",
   "execution_count": 17,
   "id": "a1b402d3",
   "metadata": {},
   "outputs": [],
   "source": [
    "Sdata=pd.read_csv('https://raw.githubusercontent.com/Abeyaantrix2Internship/intern/main/Social_Network_Ads.csv')\n"
   ]
  },
  {
   "cell_type": "code",
   "execution_count": 18,
   "id": "83018e42",
   "metadata": {},
   "outputs": [],
   "source": [
    "#%% input and out data\n",
    "In=Sdata.iloc[:,2:4].values\n",
    "Dp=Sdata.iloc[:,4:5].values"
   ]
  },
  {
   "cell_type": "code",
   "execution_count": 19,
   "id": "6c8745c3",
   "metadata": {},
   "outputs": [
    {
     "ename": "NameError",
     "evalue": "name 'StandardScaler' is not defined",
     "output_type": "error",
     "traceback": [
      "\u001b[1;31m---------------------------------------------------------------------------\u001b[0m",
      "\u001b[1;31mNameError\u001b[0m                                 Traceback (most recent call last)",
      "\u001b[1;32m<ipython-input-19-917491a6d338>\u001b[0m in \u001b[0;36m<module>\u001b[1;34m\u001b[0m\n\u001b[0;32m      1\u001b[0m \u001b[1;31m#%% Feature scaling\u001b[0m\u001b[1;33m\u001b[0m\u001b[1;33m\u001b[0m\u001b[1;33m\u001b[0m\u001b[0m\n\u001b[1;32m----> 2\u001b[1;33m \u001b[0mstd\u001b[0m\u001b[1;33m=\u001b[0m\u001b[0mStandardScaler\u001b[0m\u001b[1;33m(\u001b[0m\u001b[1;33m)\u001b[0m \u001b[1;31m# object creation\u001b[0m\u001b[1;33m\u001b[0m\u001b[1;33m\u001b[0m\u001b[0m\n\u001b[0m\u001b[0;32m      3\u001b[0m \u001b[0mIn\u001b[0m\u001b[1;33m=\u001b[0m\u001b[0mstd\u001b[0m\u001b[1;33m.\u001b[0m\u001b[0mfit_transform\u001b[0m\u001b[1;33m(\u001b[0m\u001b[0mIn\u001b[0m\u001b[1;33m)\u001b[0m\u001b[1;33m\u001b[0m\u001b[1;33m\u001b[0m\u001b[0m\n",
      "\u001b[1;31mNameError\u001b[0m: name 'StandardScaler' is not defined"
     ]
    }
   ],
   "source": [
    "#%% Feature scaling\n",
    "std=StandardScaler() # object creation\n",
    "In=std.fit_transform(In)\n"
   ]
  },
  {
   "cell_type": "code",
   "execution_count": 20,
   "id": "4be90a0f",
   "metadata": {},
   "outputs": [
    {
     "ename": "NameError",
     "evalue": "name 'train_test_split' is not defined",
     "output_type": "error",
     "traceback": [
      "\u001b[1;31m---------------------------------------------------------------------------\u001b[0m",
      "\u001b[1;31mNameError\u001b[0m                                 Traceback (most recent call last)",
      "\u001b[1;32m<ipython-input-20-d10fccf74d5a>\u001b[0m in \u001b[0;36m<module>\u001b[1;34m\u001b[0m\n\u001b[0;32m      1\u001b[0m \u001b[1;31m#%% training and test split\u001b[0m\u001b[1;33m\u001b[0m\u001b[1;33m\u001b[0m\u001b[1;33m\u001b[0m\u001b[0m\n\u001b[1;32m----> 2\u001b[1;33m \u001b[0mIntrain\u001b[0m\u001b[1;33m,\u001b[0m \u001b[0mIntest\u001b[0m\u001b[1;33m,\u001b[0m \u001b[0mDptrain\u001b[0m\u001b[1;33m,\u001b[0m \u001b[0mDptest\u001b[0m\u001b[1;33m=\u001b[0m\u001b[0mtrain_test_split\u001b[0m\u001b[1;33m(\u001b[0m\u001b[0mIn\u001b[0m\u001b[1;33m,\u001b[0m \u001b[0mDp\u001b[0m\u001b[1;33m,\u001b[0m\u001b[0mtest_size\u001b[0m\u001b[1;33m=\u001b[0m\u001b[1;36m0.20\u001b[0m\u001b[1;33m,\u001b[0m\u001b[0mrandom_state\u001b[0m\u001b[1;33m=\u001b[0m\u001b[1;36m0\u001b[0m\u001b[1;33m)\u001b[0m\u001b[1;33m\u001b[0m\u001b[1;33m\u001b[0m\u001b[0m\n\u001b[0m",
      "\u001b[1;31mNameError\u001b[0m: name 'train_test_split' is not defined"
     ]
    }
   ],
   "source": [
    "#%% training and test split\n",
    "Intrain, Intest, Dptrain, Dptest=train_test_split(In, Dp,test_size=0.20,random_state=0)"
   ]
  },
  {
   "cell_type": "code",
   "execution_count": 8,
   "id": "fbc9f2f0",
   "metadata": {},
   "outputs": [
    {
     "ename": "NameError",
     "evalue": "name 'Intrain' is not defined",
     "output_type": "error",
     "traceback": [
      "\u001b[1;31m---------------------------------------------------------------------------\u001b[0m",
      "\u001b[1;31mNameError\u001b[0m                                 Traceback (most recent call last)",
      "\u001b[1;32m<ipython-input-8-ee7169b5084a>\u001b[0m in \u001b[0;36m<module>\u001b[1;34m\u001b[0m\n\u001b[0;32m      3\u001b[0m \u001b[1;32mfrom\u001b[0m \u001b[0msklearn\u001b[0m\u001b[1;33m.\u001b[0m\u001b[0mneighbors\u001b[0m \u001b[1;32mimport\u001b[0m \u001b[0mKNeighborsClassifier\u001b[0m\u001b[1;33m\u001b[0m\u001b[1;33m\u001b[0m\u001b[0m\n\u001b[0;32m      4\u001b[0m \u001b[0mKNN\u001b[0m\u001b[1;33m=\u001b[0m\u001b[0mKNeighborsClassifier\u001b[0m\u001b[1;33m(\u001b[0m\u001b[0mn_neighbors\u001b[0m\u001b[1;33m=\u001b[0m\u001b[1;36m4\u001b[0m\u001b[1;33m,\u001b[0m\u001b[0mmetric\u001b[0m\u001b[1;33m=\u001b[0m\u001b[1;34m'minkowski'\u001b[0m\u001b[1;33m,\u001b[0m\u001b[0mp\u001b[0m\u001b[1;33m=\u001b[0m\u001b[1;36m2\u001b[0m\u001b[1;33m)\u001b[0m\u001b[1;33m\u001b[0m\u001b[1;33m\u001b[0m\u001b[0m\n\u001b[1;32m----> 5\u001b[1;33m \u001b[0mKNN\u001b[0m\u001b[1;33m.\u001b[0m\u001b[0mfit\u001b[0m\u001b[1;33m(\u001b[0m\u001b[0mIntrain\u001b[0m\u001b[1;33m,\u001b[0m \u001b[0mDptrain\u001b[0m\u001b[1;33m)\u001b[0m\u001b[1;33m\u001b[0m\u001b[1;33m\u001b[0m\u001b[0m\n\u001b[0m\u001b[0;32m      6\u001b[0m \u001b[1;31m#%% apply the predict\u001b[0m\u001b[1;33m\u001b[0m\u001b[1;33m\u001b[0m\u001b[1;33m\u001b[0m\u001b[0m\n\u001b[0;32m      7\u001b[0m \u001b[0mDp_Predicted\u001b[0m\u001b[1;33m=\u001b[0m\u001b[0mKNN\u001b[0m\u001b[1;33m.\u001b[0m\u001b[0mpredict\u001b[0m\u001b[1;33m(\u001b[0m\u001b[0mIntest\u001b[0m\u001b[1;33m)\u001b[0m\u001b[1;33m\u001b[0m\u001b[1;33m\u001b[0m\u001b[0m\n",
      "\u001b[1;31mNameError\u001b[0m: name 'Intrain' is not defined"
     ]
    }
   ],
   "source": [
    "#Feature scaling helps in bringing all data column or features in some same scale, so no feature will have biasing effect in model outcome.\n",
    "#%% Apply KNN choosen classifier, create object apply fit method\n",
    "from sklearn.neighbors import KNeighborsClassifier\n",
    "KNN=KNeighborsClassifier(n_neighbors=4,metric='minkowski',p=2)\n",
    "KNN.fit(Intrain, Dptrain)\n",
    "#%% apply the predict\n",
    "Dp_Predicted=KNN.predict(Intest)"
   ]
  },
  {
   "cell_type": "code",
   "execution_count": 21,
   "id": "dd7f4dec",
   "metadata": {},
   "outputs": [
    {
     "ename": "NameError",
     "evalue": "name 'Dptest' is not defined",
     "output_type": "error",
     "traceback": [
      "\u001b[1;31m---------------------------------------------------------------------------\u001b[0m",
      "\u001b[1;31mNameError\u001b[0m                                 Traceback (most recent call last)",
      "\u001b[1;32m<ipython-input-21-2548c50b395b>\u001b[0m in \u001b[0;36m<module>\u001b[1;34m\u001b[0m\n\u001b[0;32m      1\u001b[0m \u001b[1;31m#%% apply Confusion Matrix to calculate  accuracy\u001b[0m\u001b[1;33m\u001b[0m\u001b[1;33m\u001b[0m\u001b[1;33m\u001b[0m\u001b[0m\n\u001b[0;32m      2\u001b[0m \u001b[1;32mfrom\u001b[0m \u001b[0msklearn\u001b[0m\u001b[1;33m.\u001b[0m\u001b[0mmetrics\u001b[0m \u001b[1;32mimport\u001b[0m \u001b[0mconfusion_matrix\u001b[0m\u001b[1;33m\u001b[0m\u001b[1;33m\u001b[0m\u001b[0m\n\u001b[1;32m----> 3\u001b[1;33m \u001b[0mresult\u001b[0m\u001b[1;33m=\u001b[0m\u001b[0mconfusion_matrix\u001b[0m\u001b[1;33m(\u001b[0m\u001b[0mDptest\u001b[0m\u001b[1;33m,\u001b[0m\u001b[0mDp_Predicted\u001b[0m\u001b[1;33m)\u001b[0m\u001b[1;33m\u001b[0m\u001b[1;33m\u001b[0m\u001b[0m\n\u001b[0m\u001b[0;32m      4\u001b[0m \u001b[0mprint\u001b[0m\u001b[1;33m(\u001b[0m\u001b[0mresult\u001b[0m\u001b[1;33m)\u001b[0m\u001b[1;33m\u001b[0m\u001b[1;33m\u001b[0m\u001b[0m\n",
      "\u001b[1;31mNameError\u001b[0m: name 'Dptest' is not defined"
     ]
    }
   ],
   "source": [
    "#%% apply Confusion Matrix to calculate  accuracy\n",
    "from sklearn.metrics import confusion_matrix\n",
    "result=confusion_matrix(Dptest,Dp_Predicted)\n",
    "print(result)"
   ]
  },
  {
   "cell_type": "code",
   "execution_count": null,
   "id": "8578abfe",
   "metadata": {},
   "outputs": [],
   "source": [
    "------------------------------------||-----------------------------------"
   ]
  },
  {
   "cell_type": "code",
   "execution_count": null,
   "id": "d55a27f9",
   "metadata": {},
   "outputs": [],
   "source": [
    "#confusion matrix is a summary of prediction results on a classification problem.The number of correct & incorrect predictions are summarised with values & broken down by each class. \n",
    "#the confusion matrix shows the ways in which your classification model is confused when it makes predictions.\n",
    "#It gives us insight not only into the errors being made by a classifier but more importantly the types of errors that are being made"
   ]
  },
  {
   "cell_type": "code",
   "execution_count": null,
   "id": "b1c8c575",
   "metadata": {},
   "outputs": [],
   "source": [
    "#entrophy formula= -p(A)log(p(A))-p(B)log(p(B))                      *p is probability\n",
    "#Decision tree works on recursive partition of data to be begin with partition \n"
   ]
  },
  {
   "cell_type": "code",
   "execution_count": 22,
   "id": "e9ce6a2a",
   "metadata": {},
   "outputs": [
    {
     "name": "stdout",
     "output_type": "stream",
     "text": [
      "    User ID  Gender  Age  EstimatedSalary  Purchased\n",
      "0  15624510    Male   19            19000          0\n",
      "1  15810944    Male   35            20000          0\n",
      "2  15668575  Female   26            43000          0\n",
      "3  15603246  Female   27            57000          0\n",
      "4  15804002    Male   19            76000          0\n"
     ]
    }
   ],
   "source": [
    "import numpy as np\n",
    "import pandas as pd\n",
    "\n",
    "#%%\n",
    "Data=pd.read_csv('https://raw.githubusercontent.com/Abeyaantrix2Internship/intern/main/Social_Network_Ads.csv')\n",
    "print(Data.head())"
   ]
  },
  {
   "cell_type": "code",
   "execution_count": 23,
   "id": "7c6e991b",
   "metadata": {},
   "outputs": [],
   "source": [
    "#%%\n",
    "Input=Data.iloc[:,2:4].values #Input=Data.iloc[:,1:4].values \n",
    "Output=Data.iloc[:,4:5].values"
   ]
  },
  {
   "cell_type": "code",
   "execution_count": 24,
   "id": "16e27016",
   "metadata": {},
   "outputs": [
    {
     "name": "stdout",
     "output_type": "stream",
     "text": [
      "[[-1.78179743 -1.49004624]\n",
      " [-0.25358736 -1.46068138]\n",
      " [-1.11320552 -0.78528968]\n",
      " [-1.01769239 -0.37418169]\n",
      " [-1.78179743  0.18375059]\n",
      " [-1.01769239 -0.34481683]\n",
      " [-1.01769239  0.41866944]\n",
      " [-0.54012675  2.35674998]\n",
      " [-1.20871865 -1.07893824]\n",
      " [-0.25358736 -0.13926283]\n",
      " [-1.11320552  0.30121002]\n",
      " [-1.11320552 -0.52100597]\n",
      " [-1.6862843   0.47739916]\n",
      " [-0.54012675 -1.51941109]\n",
      " [-1.87731056  0.35993973]\n",
      " [-0.82666613  0.30121002]\n",
      " [ 0.89257019 -1.3138571 ]\n",
      " [ 0.70154394 -1.28449224]\n",
      " [ 0.79705706 -1.22576253]\n",
      " [ 0.98808332 -1.19639767]\n",
      " [ 0.70154394 -1.40195167]\n",
      " [ 0.89257019 -0.60910054]\n",
      " [ 0.98808332 -0.84401939]\n",
      " [ 0.70154394 -1.40195167]\n",
      " [ 0.79705706 -1.37258681]\n",
      " [ 0.89257019 -1.46068138]\n",
      " [ 1.08359645 -1.22576253]\n",
      " [ 0.89257019 -1.16703281]\n",
      " [-0.82666613 -0.78528968]\n",
      " [-0.63563988 -1.51941109]\n",
      " [-0.63563988  0.12502088]\n",
      " [-1.01769239  1.97500684]\n",
      " [-1.59077117 -1.5781408 ]\n",
      " [-0.92217926 -0.75592482]\n",
      " [-1.01769239  0.59485858]\n",
      " [-0.25358736 -1.25512738]\n",
      " [-0.44461362 -1.22576253]\n",
      " [-0.73115301 -0.60910054]\n",
      " [-1.11320552  0.06629116]\n",
      " [-1.01769239 -1.13766796]\n",
      " [-1.01769239 -1.54877595]\n",
      " [-0.44461362 -0.55037082]\n",
      " [-0.25358736  1.123426  ]\n",
      " [-0.73115301 -1.60750566]\n",
      " [-0.92217926  0.41866944]\n",
      " [-1.39974491 -1.46068138]\n",
      " [-1.20871865  0.27184516]\n",
      " [-1.01769239 -0.46227625]\n",
      " [-0.73115301  1.91627713]\n",
      " [-0.63563988  0.56549373]\n",
      " [-1.30423178 -1.1083031 ]\n",
      " [-1.87731056 -0.75592482]\n",
      " [-0.82666613  0.38930459]\n",
      " [-0.25358736 -1.37258681]\n",
      " [-1.01769239 -0.34481683]\n",
      " [-1.30423178 -0.4329114 ]\n",
      " [-1.39974491 -0.63846539]\n",
      " [-0.92217926  0.27184516]\n",
      " [-1.49525804 -1.51941109]\n",
      " [-0.54012675  1.38770971]\n",
      " [-1.01769239 -1.46068138]\n",
      " [-1.20871865  0.50676401]\n",
      " [-1.39974491 -0.10989798]\n",
      " [-0.54012675  1.47580428]\n",
      " [ 2.03872775  0.38930459]\n",
      " [-1.30423178 -0.34481683]\n",
      " [-1.30423178 -1.49004624]\n",
      " [-1.39974491  0.35993973]\n",
      " [-1.49525804 -0.19799255]\n",
      " [-0.63563988 -0.05116826]\n",
      " [-1.20871865  0.30121002]\n",
      " [-1.30423178 -1.25512738]\n",
      " [-1.6862843  -1.37258681]\n",
      " [-0.44461362  1.27025028]\n",
      " [-0.54012675 -1.51941109]\n",
      " [-0.34910049  1.24088543]\n",
      " [-1.87731056 -0.52100597]\n",
      " [-1.49525804 -1.25512738]\n",
      " [-0.92217926  0.50676401]\n",
      " [-1.11320552 -1.54877595]\n",
      " [-0.73115301  0.30121002]\n",
      " [ 0.12846516 -0.81465453]\n",
      " [-1.6862843  -0.60910054]\n",
      " [-0.25358736  0.53612887]\n",
      " [-0.73115301 -0.2273574 ]\n",
      " [-0.63563988  1.41707457]\n",
      " [-1.30423178 -0.4329114 ]\n",
      " [-0.92217926  0.4480343 ]\n",
      " [-1.11320552  0.33057487]\n",
      " [-0.25358736 -0.57973568]\n",
      " [-1.49525804  0.33057487]\n",
      " [-0.73115301  1.35834485]\n",
      " [-1.11320552 -1.60750566]\n",
      " [-0.82666613 -1.22576253]\n",
      " [-0.82666613  0.38930459]\n",
      " [-0.25358736 -0.75592482]\n",
      " [-0.25358736 -1.3138571 ]\n",
      " [-0.92217926  1.56389885]\n",
      " [-0.25358736  0.09565602]\n",
      " [-0.92217926 -0.96147882]\n",
      " [-1.01769239  0.53612887]\n",
      " [-0.92217926 -0.31545197]\n",
      " [-0.54012675  0.47739916]\n",
      " [-0.44461362  2.32738512]\n",
      " [-1.78179743 -1.43131652]\n",
      " [-1.59077117  0.06629116]\n",
      " [-1.11320552 -1.02020853]\n",
      " [-1.01769239  0.56549373]\n",
      " [-1.11320552  0.47739916]\n",
      " [ 0.03295203  0.30121002]\n",
      " [ 0.12846516  0.03692631]\n",
      " [-0.0625611   0.03692631]\n",
      " [ 0.03295203 -0.25672226]\n",
      " [-0.0625611  -0.4329114 ]\n",
      " [ 0.41500455  0.30121002]\n",
      " [ 0.22397829 -0.37418169]\n",
      " [-0.25358736  0.15438573]\n",
      " [-0.15807423 -0.52100597]\n",
      " [ 0.22397829 -0.31545197]\n",
      " [ 0.31949142 -0.31545197]\n",
      " [-0.15807423  0.15438573]\n",
      " [-0.0625611   0.06629116]\n",
      " [ 0.22397829  0.15438573]\n",
      " [-0.25358736 -0.49164111]\n",
      " [ 0.31949142 -0.55037082]\n",
      " [ 0.12846516 -0.25672226]\n",
      " [ 0.41500455 -0.13926283]\n",
      " [-1.11320552 -1.1083031 ]\n",
      " [-0.73115301 -1.54877595]\n",
      " [-1.11320552  0.41866944]\n",
      " [-0.63563988 -0.34481683]\n",
      " [-0.44461362 -1.13766796]\n",
      " [-0.73115301  0.50676401]\n",
      " [-1.59077117 -0.05116826]\n",
      " [-0.92217926 -0.4329114 ]\n",
      " [-1.39974491 -0.19799255]\n",
      " [-1.6862843   0.35993973]\n",
      " [-0.73115301  1.09406114]\n",
      " [-0.92217926 -0.31545197]\n",
      " [-1.78179743 -1.3138571 ]\n",
      " [-1.78179743  0.4480343 ]\n",
      " [-1.87731056 -0.05116826]\n",
      " [-0.25358736 -0.31545197]\n",
      " [-0.73115301  0.56549373]\n",
      " [-0.34910049 -1.3138571 ]\n",
      " [-1.30423178  0.56549373]\n",
      " [-1.01769239  0.77104772]\n",
      " [ 0.31949142 -1.16703281]\n",
      " [-0.82666613 -0.25672226]\n",
      " [-1.6862843   0.12502088]\n",
      " [-1.11320552 -1.60750566]\n",
      " [ 0.31949142 -0.72655996]\n",
      " [-0.63563988  0.18375059]\n",
      " [-0.15807423 -0.57973568]\n",
      " [ 0.22397829 -0.66783025]\n",
      " [-0.63563988 -1.60750566]\n",
      " [ 0.79705706 -0.31545197]\n",
      " [-0.82666613  0.15438573]\n",
      " [-1.11320552 -1.16703281]\n",
      " [-0.54012675  1.91627713]\n",
      " [-0.54012675  0.88850715]\n",
      " [-1.20871865  0.59485858]\n",
      " [-0.0625611  -1.07893824]\n",
      " [-0.25358736 -0.93211396]\n",
      " [-0.44461362 -0.02180341]\n",
      " [-1.87731056  0.47739916]\n",
      " [-1.49525804 -0.4329114 ]\n",
      " [-0.25358736  0.03692631]\n",
      " [-0.82666613  2.29802026]\n",
      " [-0.82666613 -0.66783025]\n",
      " [-1.59077117  0.53612887]\n",
      " [-0.34910049  1.32898   ]\n",
      " [-1.11320552  1.41707457]\n",
      " [-0.34910049 -0.78528968]\n",
      " [-0.34910049  0.06629116]\n",
      " [-1.39974491 -1.22576253]\n",
      " [-0.25358736 -0.66783025]\n",
      " [-1.20871865 -1.40195167]\n",
      " [-1.30423178 -1.37258681]\n",
      " [-0.63563988 -1.04957339]\n",
      " [-1.11320552 -1.5781408 ]\n",
      " [-0.63563988  0.03692631]\n",
      " [-0.54012675  1.38770971]\n",
      " [-0.44461362 -0.78528968]\n",
      " [-0.44461362 -0.28608712]\n",
      " [-0.63563988 -0.10989798]\n",
      " [-1.6862843   0.35993973]\n",
      " [-0.44461362 -0.84401939]\n",
      " [-0.25358736  0.06629116]\n",
      " [-0.92217926 -1.1083031 ]\n",
      " [-1.30423178  0.41866944]\n",
      " [-1.78179743 -1.28449224]\n",
      " [-0.82666613 -0.78528968]\n",
      " [-1.78179743  0.00756145]\n",
      " [-0.92217926  0.56549373]\n",
      " [-0.34910049 -0.78528968]\n",
      " [-0.73115301  0.27184516]\n",
      " [-1.6862843  -0.99084367]\n",
      " [-1.11320552  0.30121002]\n",
      " [-0.25358736 -1.40195167]\n",
      " [-0.25358736 -0.9027491 ]\n",
      " [ 1.08359645  0.12502088]\n",
      " [ 0.12846516  1.88691227]\n",
      " [ 0.31949142  0.03692631]\n",
      " [ 1.94321462  0.917872  ]\n",
      " [ 0.89257019 -0.66783025]\n",
      " [ 1.65667523  1.76945285]\n",
      " [ 1.37013584  1.29961514]\n",
      " [ 0.22397829  2.12183112]\n",
      " [ 0.79705706 -1.40195167]\n",
      " [ 0.98808332  0.77104772]\n",
      " [ 1.37013584  2.35674998]\n",
      " [ 2.03872775 -0.81465453]\n",
      " [-0.25358736 -0.34481683]\n",
      " [ 0.89257019 -0.78528968]\n",
      " [ 2.13424088  1.123426  ]\n",
      " [ 1.08359645 -0.13926283]\n",
      " [ 0.22397829  0.2424803 ]\n",
      " [ 0.79705706  0.77104772]\n",
      " [ 2.03872775  2.15119598]\n",
      " [ 0.31949142  0.30121002]\n",
      " [-0.25358736  0.62422344]\n",
      " [-0.0625611   2.18056084]\n",
      " [ 2.13424088  0.94723686]\n",
      " [-0.25358736 -0.28608712]\n",
      " [-0.0625611  -0.49164111]\n",
      " [-0.15807423  1.65199342]\n",
      " [ 1.75218836  1.85754742]\n",
      " [ 0.22397829  0.06629116]\n",
      " [ 0.41500455  0.30121002]\n",
      " [-0.25358736  2.26865541]\n",
      " [ 0.12846516 -0.81465453]\n",
      " [ 0.22397829  1.09406114]\n",
      " [ 1.08359645  0.47739916]\n",
      " [ 0.03295203  1.24088543]\n",
      " [ 0.79705706  0.27184516]\n",
      " [ 0.22397829 -0.37418169]\n",
      " [-0.0625611   0.30121002]\n",
      " [ 0.79705706  0.35993973]\n",
      " [ 1.46564897  2.15119598]\n",
      " [ 0.41500455  2.32738512]\n",
      " [ 0.03295203 -0.31545197]\n",
      " [ 1.17910958  0.53612887]\n",
      " [ 1.75218836  1.00596657]\n",
      " [ 0.31949142  0.06629116]\n",
      " [ 1.27462271  2.23929055]\n",
      " [-0.25358736 -0.57973568]\n",
      " [ 1.84770149  1.53453399]\n",
      " [ 0.31949142 -0.52100597]\n",
      " [-0.25358736  0.80041258]\n",
      " [ 0.60603081 -0.9027491 ]\n",
      " [-0.0625611  -0.52100597]\n",
      " [ 0.98808332  1.88691227]\n",
      " [-0.0625611   2.23929055]\n",
      " [ 1.17910958 -0.75592482]\n",
      " [ 1.37013584  0.59485858]\n",
      " [ 0.31949142  0.06629116]\n",
      " [ 0.22397829 -0.37418169]\n",
      " [ 1.94321462  0.74168287]\n",
      " [ 0.70154394  1.7988177 ]\n",
      " [-0.25358736  0.21311545]\n",
      " [-0.15807423  2.18056084]\n",
      " [ 1.65667523  1.62262856]\n",
      " [-0.25358736  0.06629116]\n",
      " [ 0.98808332  0.59485858]\n",
      " [ 0.41500455  1.123426  ]\n",
      " [ 0.22397829  0.15438573]\n",
      " [-0.0625611   0.12502088]\n",
      " [ 0.89257019  2.18056084]\n",
      " [ 0.22397829 -0.25672226]\n",
      " [ 0.51051768  1.85754742]\n",
      " [ 2.03872775  0.18375059]\n",
      " [ 2.13424088 -0.81465453]\n",
      " [ 0.12846516  1.06469629]\n",
      " [ 1.84770149 -1.28449224]\n",
      " [ 1.84770149  0.12502088]\n",
      " [ 0.03295203  0.03692631]\n",
      " [ 1.08359645  0.53612887]\n",
      " [ 1.37013584 -0.93211396]\n",
      " [ 1.17910958 -0.99084367]\n",
      " [ 2.03872775  0.53612887]\n",
      " [-0.25358736 -0.25672226]\n",
      " [-0.0625611   0.00756145]\n",
      " [ 1.37013584 -1.43131652]\n",
      " [ 0.98808332  2.09246627]\n",
      " [-0.0625611   0.68295315]\n",
      " [-0.0625611  -0.2273574 ]\n",
      " [ 0.98808332  2.0043717 ]\n",
      " [ 0.31949142  0.27184516]\n",
      " [-0.0625611   0.2424803 ]\n",
      " [ 0.12846516  1.88691227]\n",
      " [ 1.08359645  0.56549373]\n",
      " [ 1.65667523 -0.9027491 ]\n",
      " [-0.0625611   0.21311545]\n",
      " [-0.25358736 -0.37418169]\n",
      " [-0.15807423 -0.19799255]\n",
      " [ 0.41500455  0.09565602]\n",
      " [ 0.51051768  1.24088543]\n",
      " [ 0.70154394  0.27184516]\n",
      " [ 0.79705706  1.38770971]\n",
      " [ 1.94321462 -0.93211396]\n",
      " [ 0.98808332  0.12502088]\n",
      " [-0.0625611   1.97500684]\n",
      " [-0.0625611   0.27184516]\n",
      " [ 0.22397829 -0.28608712]\n",
      " [ 0.41500455 -0.46227625]\n",
      " [ 1.27462271  1.88691227]\n",
      " [ 0.89257019  1.27025028]\n",
      " [-0.15807423  1.62262856]\n",
      " [ 0.03295203 -0.57973568]\n",
      " [ 0.41500455  0.00756145]\n",
      " [ 0.12846516  0.77104772]\n",
      " [ 0.03295203 -0.57973568]\n",
      " [ 1.08359645  2.09246627]\n",
      " [ 0.12846516  0.27184516]\n",
      " [ 0.12846516  0.15438573]\n",
      " [ 1.5611621   1.00596657]\n",
      " [-0.25358736 -0.4329114 ]\n",
      " [ 0.70154394 -1.1083031 ]\n",
      " [-0.15807423 -0.28608712]\n",
      " [ 1.37013584  2.0043717 ]\n",
      " [ 1.46564897  0.35993973]\n",
      " [ 0.31949142 -0.52100597]\n",
      " [ 0.98808332 -1.16703281]\n",
      " [ 0.98808332  1.7988177 ]\n",
      " [ 0.31949142 -0.28608712]\n",
      " [ 0.31949142  0.06629116]\n",
      " [ 0.41500455  0.15438573]\n",
      " [-0.15807423  1.41707457]\n",
      " [ 0.89257019  1.09406114]\n",
      " [ 0.03295203 -0.55037082]\n",
      " [ 0.98808332  1.44643942]\n",
      " [ 0.41500455 -0.13926283]\n",
      " [ 0.22397829 -0.13926283]\n",
      " [ 1.84770149 -0.28608712]\n",
      " [-0.15807423 -0.46227625]\n",
      " [ 1.94321462  2.18056084]\n",
      " [-0.25358736  0.27184516]\n",
      " [ 0.03295203 -0.4329114 ]\n",
      " [ 0.12846516  1.53453399]\n",
      " [ 1.46564897  1.00596657]\n",
      " [-0.25358736  0.15438573]\n",
      " [ 0.03295203 -0.13926283]\n",
      " [ 0.89257019 -0.55037082]\n",
      " [ 0.89257019  1.03533143]\n",
      " [ 0.31949142 -0.19799255]\n",
      " [ 1.46564897  0.06629116]\n",
      " [ 1.5611621   1.123426  ]\n",
      " [ 0.12846516  0.21311545]\n",
      " [ 0.03295203 -0.25672226]\n",
      " [ 0.03295203  1.27025028]\n",
      " [-0.0625611   0.15438573]\n",
      " [ 0.41500455  0.59485858]\n",
      " [-0.0625611  -0.37418169]\n",
      " [-0.15807423  0.85914229]\n",
      " [ 2.13424088 -1.04957339]\n",
      " [ 1.5611621   0.00756145]\n",
      " [ 0.31949142  0.06629116]\n",
      " [ 0.22397829  0.03692631]\n",
      " [ 0.41500455 -0.46227625]\n",
      " [ 0.51051768  1.74008799]\n",
      " [ 1.46564897 -1.04957339]\n",
      " [ 0.89257019 -0.57973568]\n",
      " [ 0.41500455  0.27184516]\n",
      " [ 0.41500455  1.00596657]\n",
      " [ 2.03872775 -1.19639767]\n",
      " [ 1.94321462 -0.66783025]\n",
      " [ 0.79705706  0.53612887]\n",
      " [ 0.03295203  0.03692631]\n",
      " [ 1.5611621  -1.28449224]\n",
      " [ 2.13424088 -0.69719511]\n",
      " [ 2.13424088  0.38930459]\n",
      " [ 0.12846516  0.09565602]\n",
      " [ 2.03872775  1.76945285]\n",
      " [-0.0625611   0.30121002]\n",
      " [ 0.79705706 -1.1083031 ]\n",
      " [ 0.79705706  0.12502088]\n",
      " [ 0.41500455 -0.49164111]\n",
      " [ 0.31949142  0.50676401]\n",
      " [ 1.94321462 -1.37258681]\n",
      " [ 0.41500455 -0.16862769]\n",
      " [ 0.98808332 -1.07893824]\n",
      " [ 0.60603081  2.03373655]\n",
      " [ 1.08359645 -1.22576253]\n",
      " [ 1.84770149 -1.07893824]\n",
      " [ 1.75218836 -0.28608712]\n",
      " [ 1.08359645 -0.9027491 ]\n",
      " [ 0.12846516  0.03692631]\n",
      " [ 0.89257019 -1.04957339]\n",
      " [ 0.98808332 -1.02020853]\n",
      " [ 0.98808332 -1.07893824]\n",
      " [ 0.89257019 -1.37258681]\n",
      " [ 0.70154394 -0.72655996]\n",
      " [ 2.13424088 -0.81465453]\n",
      " [ 0.12846516 -0.31545197]\n",
      " [ 0.79705706 -0.84401939]\n",
      " [ 1.27462271 -1.37258681]\n",
      " [ 1.17910958 -1.46068138]\n",
      " [-0.15807423 -1.07893824]\n",
      " [ 1.08359645 -0.99084367]]\n"
     ]
    }
   ],
   "source": [
    "#%% feature scaling\n",
    "from sklearn.preprocessing import StandardScaler\n",
    "SS=StandardScaler()\n",
    "Input=SS.fit_transform(Input)\n",
    "print(Input)"
   ]
  },
  {
   "cell_type": "code",
   "execution_count": 41,
   "id": "99b50a22",
   "metadata": {},
   "outputs": [
    {
     "ename": "TypeError",
     "evalue": "cannot unpack non-iterable function object",
     "output_type": "error",
     "traceback": [
      "\u001b[1;31m---------------------------------------------------------------------------\u001b[0m",
      "\u001b[1;31mTypeError\u001b[0m                                 Traceback (most recent call last)",
      "\u001b[1;32m<ipython-input-41-e183b390a812>\u001b[0m in \u001b[0;36m<module>\u001b[1;34m\u001b[0m\n\u001b[0;32m      1\u001b[0m \u001b[1;32mfrom\u001b[0m \u001b[0msklearn\u001b[0m\u001b[1;33m.\u001b[0m\u001b[0mmodel_selection\u001b[0m \u001b[1;32mimport\u001b[0m \u001b[0mtrain_test_split\u001b[0m\u001b[1;33m\u001b[0m\u001b[1;33m\u001b[0m\u001b[0m\n\u001b[1;32m----> 2\u001b[1;33m \u001b[0mItrain\u001b[0m\u001b[1;33m,\u001b[0m\u001b[0mItest\u001b[0m\u001b[1;33m,\u001b[0m \u001b[0mDtrain\u001b[0m\u001b[1;33m,\u001b[0m\u001b[0mDtest\u001b[0m \u001b[1;33m=\u001b[0m \u001b[0mtrain_test_split\u001b[0m\u001b[1;33m\u001b[0m\u001b[1;33m\u001b[0m\u001b[0m\n\u001b[0m",
      "\u001b[1;31mTypeError\u001b[0m: cannot unpack non-iterable function object"
     ]
    }
   ],
   "source": [
    "\n",
    "from sklearn.model_selection import train_test_split\n",
    "Itrain,Itest, Dtrain,Dtest = train_test_split"
   ]
  },
  {
   "cell_type": "code",
   "execution_count": 28,
   "id": "967287d3",
   "metadata": {},
   "outputs": [],
   "source": [
    "\n",
    "from sklearn.model_selection import train_test_split\n",
    "Itrain,Itest, Dtrain, Dtest=train_test_split(Input, Output,test_size=0.2,random_state=0)"
   ]
  },
  {
   "cell_type": "code",
   "execution_count": 29,
   "id": "81c6ffcc",
   "metadata": {},
   "outputs": [],
   "source": [
    "#%%\n",
    "from sklearn.tree import DecisionTreeClassifier\n",
    "DT=DecisionTreeClassifier(criterion='entropy', random_state=0)"
   ]
  },
  {
   "cell_type": "code",
   "execution_count": 30,
   "id": "0e47a1dc",
   "metadata": {},
   "outputs": [
    {
     "name": "stdout",
     "output_type": "stream",
     "text": [
      "training completed\n"
     ]
    }
   ],
   "source": [
    "# appluy fit method onto trainng data\n",
    "DT.fit(Itrain,Dtrain)\n",
    "print('training completed')\n"
   ]
  },
  {
   "cell_type": "code",
   "execution_count": 31,
   "id": "a0e188a0",
   "metadata": {},
   "outputs": [],
   "source": [
    "#%%# apply prediction on tesdt data\n",
    "DTpredict=DT.predict(Itest)"
   ]
  },
  {
   "cell_type": "code",
   "execution_count": 32,
   "id": "03df2b3e",
   "metadata": {},
   "outputs": [
    {
     "name": "stdout",
     "output_type": "stream",
     "text": [
      "[[53  5]\n",
      " [ 3 19]]\n"
     ]
    }
   ],
   "source": [
    "#%% confusion matrix\n",
    "from sklearn.metrics import confusion_matrix\n",
    "ResultDT=confusion_matrix(Dtest, DTpredict)\n",
    "print(ResultDT)"
   ]
  },
  {
   "cell_type": "code",
   "execution_count": 33,
   "id": "a06a7e1b",
   "metadata": {},
   "outputs": [
    {
     "name": "stdout",
     "output_type": "stream",
     "text": [
      "[[53  5]\n",
      " [ 3 19]]\n"
     ]
    }
   ],
   "source": [
    "#%% confusion matrix\n",
    "from sklearn.metrics import confusion_matrix\n",
    "ResultDT=confusion_matrix(Dtest, DTpredict)\n",
    "print(ResultDT)\n"
   ]
  },
  {
   "cell_type": "code",
   "execution_count": 34,
   "id": "ae9867b0",
   "metadata": {},
   "outputs": [],
   "source": [
    "#%% knn\n",
    "from sklearn.neighbors import KNeighborsClassifier\n",
    "KNN=KNeighborsClassifier(n_neighbors=5,metric='minkowski',p=2)"
   ]
  },
  {
   "cell_type": "code",
   "execution_count": 35,
   "id": "53c0c1b4",
   "metadata": {},
   "outputs": [
    {
     "name": "stderr",
     "output_type": "stream",
     "text": [
      "C:\\Users\\hp\\anaconda3\\lib\\site-packages\\sklearn\\neighbors\\_classification.py:179: DataConversionWarning: A column-vector y was passed when a 1d array was expected. Please change the shape of y to (n_samples,), for example using ravel().\n",
      "  return self._fit(X, y)\n"
     ]
    },
    {
     "data": {
      "text/plain": [
       "KNeighborsClassifier()"
      ]
     },
     "execution_count": 35,
     "metadata": {},
     "output_type": "execute_result"
    }
   ],
   "source": [
    "#%%\n",
    "# appluy fit method onto trainng data\n",
    "KNN.fit(Itrain,Dtrain)\n"
   ]
  },
  {
   "cell_type": "code",
   "execution_count": 36,
   "id": "168547d2",
   "metadata": {},
   "outputs": [],
   "source": [
    "#%%# apply prediction on tesdt data\n",
    "KNNpredict=KNN.predict(Itest)"
   ]
  },
  {
   "cell_type": "code",
   "execution_count": 37,
   "id": "8115f448",
   "metadata": {},
   "outputs": [
    {
     "name": "stdout",
     "output_type": "stream",
     "text": [
      "[[55  3]\n",
      " [ 1 21]]\n"
     ]
    }
   ],
   "source": [
    "ResultKNN=confusion_matrix(Dtest, KNNpredict)\n",
    "print(ResultKNN)"
   ]
  },
  {
   "cell_type": "code",
   "execution_count": null,
   "id": "2566b24c",
   "metadata": {},
   "outputs": [],
   "source": []
  },
  {
   "cell_type": "code",
   "execution_count": null,
   "id": "013ba46f",
   "metadata": {},
   "outputs": [],
   "source": []
  }
 ],
 "metadata": {
  "kernelspec": {
   "display_name": "Python 3",
   "language": "python",
   "name": "python3"
  },
  "language_info": {
   "codemirror_mode": {
    "name": "ipython",
    "version": 3
   },
   "file_extension": ".py",
   "mimetype": "text/x-python",
   "name": "python",
   "nbconvert_exporter": "python",
   "pygments_lexer": "ipython3",
   "version": "3.8.8"
  }
 },
 "nbformat": 4,
 "nbformat_minor": 5
}
